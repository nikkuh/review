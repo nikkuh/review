{
 "cells": [
  {
   "cell_type": "code",
   "execution_count": 1,
   "id": "a7ae806a",
   "metadata": {},
   "outputs": [],
   "source": [
    "import numpy as np\n",
    "import pandas as pd\n",
    "import seaborn as sns\n",
    "import matplotlib\n",
    "from matplotlib import pyplot as plt\n",
    "%matplotlib inline\n",
    "\n",
    "from sklearn.ensemble import RandomForestRegressor\n",
    "from sklearn.model_selection import GridSearchCV, KFold, train_test_split\n",
    "\n",
    "from sklearn.preprocessing import MinMaxScaler\n",
    "\n",
    "from sklearn.metrics import r2_score\n",
    "\n",
    "import warnings\n",
    "warnings.filterwarnings('ignore')"
   ]
  },
  {
   "cell_type": "code",
   "execution_count": 2,
   "id": "18966c36",
   "metadata": {},
   "outputs": [],
   "source": [
    "def reduce_mem_usage(df):\n",
    "    \"\"\" iterate through all the columns of a dataframe and modify the data type\n",
    "        to reduce memory usage.        \n",
    "    \"\"\"\n",
    "    start_mem = df.memory_usage().sum() / 1024**2\n",
    "    print('Memory usage of dataframe is {:.2f} MB'.format(start_mem))\n",
    "    \n",
    "    for col in df.columns:\n",
    "        col_type = df[col].dtype\n",
    "        \n",
    "        if col_type != object:\n",
    "            c_min = df[col].min()\n",
    "            c_max = df[col].max()\n",
    "            if str(col_type)[:3] == 'int':\n",
    "                if c_min > np.iinfo(np.int8).min and c_max < np.iinfo(np.int8).max:\n",
    "                    df[col] = df[col].astype(np.int8)\n",
    "                elif c_min > np.iinfo(np.int16).min and c_max < np.iinfo(np.int16).max:\n",
    "                    df[col] = df[col].astype(np.int16)\n",
    "                elif c_min > np.iinfo(np.int32).min and c_max < np.iinfo(np.int32).max:\n",
    "                    df[col] = df[col].astype(np.int32)\n",
    "                elif c_min > np.iinfo(np.int64).min and c_max < np.iinfo(np.int64).max:\n",
    "                    df[col] = df[col].astype(np.int64)  \n",
    "            else:\n",
    "                if c_min > np.finfo(np.float32).min and c_max < np.finfo(np.float32).max:\n",
    "                    df[col] = df[col].astype(np.float32)\n",
    "                else:\n",
    "                    df[col] = df[col].astype(np.float64)\n",
    "        else:\n",
    "            df[col] = df[col].astype('category')\n",
    "\n",
    "    end_mem = df.memory_usage().sum() / 1024**2\n",
    "    print('Memory usage after optimization is: {:.2f} MB'.format(end_mem))\n",
    "    print('Decreased by {:.1f}%'.format(100 * (start_mem - end_mem) / start_mem))\n",
    "    \n",
    "    return df"
   ]
  },
  {
   "cell_type": "code",
   "execution_count": 3,
   "id": "f9310bd6",
   "metadata": {},
   "outputs": [],
   "source": [
    "df_train = pd.read_csv('train.csv')\n",
    "df_test = pd.read_csv('test.csv')"
   ]
  },
  {
   "cell_type": "markdown",
   "id": "01bb1853",
   "metadata": {},
   "source": [
    "#### EDA"
   ]
  },
  {
   "cell_type": "code",
   "execution_count": 4,
   "id": "b402e415",
   "metadata": {},
   "outputs": [
    {
     "data": {
      "text/plain": [
       "(10000, 20)"
      ]
     },
     "execution_count": 4,
     "metadata": {},
     "output_type": "execute_result"
    }
   ],
   "source": [
    "df_train.shape"
   ]
  },
  {
   "cell_type": "code",
   "execution_count": 5,
   "id": "007e87de",
   "metadata": {},
   "outputs": [
    {
     "data": {
      "text/plain": [
       "(5000, 19)"
      ]
     },
     "execution_count": 5,
     "metadata": {},
     "output_type": "execute_result"
    }
   ],
   "source": [
    "df_test.shape"
   ]
  },
  {
   "cell_type": "code",
   "execution_count": 6,
   "id": "26478779",
   "metadata": {},
   "outputs": [
    {
     "name": "stdout",
     "output_type": "stream",
     "text": [
      "<class 'pandas.core.frame.DataFrame'>\n",
      "RangeIndex: 10000 entries, 0 to 9999\n",
      "Data columns (total 20 columns):\n",
      " #   Column         Non-Null Count  Dtype  \n",
      "---  ------         --------------  -----  \n",
      " 0   Id             10000 non-null  int64  \n",
      " 1   DistrictId     10000 non-null  int64  \n",
      " 2   Rooms          10000 non-null  float64\n",
      " 3   Square         10000 non-null  float64\n",
      " 4   LifeSquare     7887 non-null   float64\n",
      " 5   KitchenSquare  10000 non-null  float64\n",
      " 6   Floor          10000 non-null  int64  \n",
      " 7   HouseFloor     10000 non-null  float64\n",
      " 8   HouseYear      10000 non-null  int64  \n",
      " 9   Ecology_1      10000 non-null  float64\n",
      " 10  Ecology_2      10000 non-null  object \n",
      " 11  Ecology_3      10000 non-null  object \n",
      " 12  Social_1       10000 non-null  int64  \n",
      " 13  Social_2       10000 non-null  int64  \n",
      " 14  Social_3       10000 non-null  int64  \n",
      " 15  Healthcare_1   5202 non-null   float64\n",
      " 16  Helthcare_2    10000 non-null  int64  \n",
      " 17  Shops_1        10000 non-null  int64  \n",
      " 18  Shops_2        10000 non-null  object \n",
      " 19  Price          10000 non-null  float64\n",
      "dtypes: float64(8), int64(9), object(3)\n",
      "memory usage: 1.5+ MB\n"
     ]
    }
   ],
   "source": [
    "df_train.info()"
   ]
  },
  {
   "cell_type": "markdown",
   "id": "7193e092",
   "metadata": {},
   "source": [
    "Есть пропуски в признаке:\n",
    "1. LifeSquare (около 22%)\n",
    "- если корреляция с похожими признаками площади будет высокой, то будет возможность избавиться от признака понижением размерности.\n",
    "\n",
    "2. Healthcare_1 (около 48%)\n",
    "- слишком много пропусков, нужно внимательно изучить признак. "
   ]
  },
  {
   "cell_type": "code",
   "execution_count": 7,
   "id": "63cd6f06",
   "metadata": {},
   "outputs": [
    {
     "data": {
      "image/png": "[encoded data removed]",
      "text/plain": [
       "<Figure size 1152x360 with 2 Axes>"
      ]
     },
     "metadata": {
      "needs_background": "light"
     },
     "output_type": "display_data"
    }
   ],
   "source": [
    "plt.figure(figsize=(16, 5))\n",
    "\n",
    "plt.subplot(121)\n",
    "plt.hist(df_train['Price'], bins=20)\n",
    "plt.xlabel('Price')\n",
    "plt.ylabel('count')\n",
    "\n",
    "plt.subplot(122)\n",
    "plt.hist(df_train['Price'], bins=20, log=True)\n",
    "plt.xlabel('Log price')\n",
    "\n",
    "plt.suptitle('Distribution of price')\n",
    "\n",
    "plt.show()"
   ]
  },
  {
   "cell_type": "markdown",
   "id": "d5bfdb27",
   "metadata": {},
   "source": [
    "Целевая переменная выглядит адекватной."
   ]
  },
  {
   "cell_type": "markdown",
   "id": "50224cbd",
   "metadata": {},
   "source": [
    "Посмотрим на зависимость между HealthCare_1 и HelthCare_2"
   ]
  },
  {
   "cell_type": "code",
   "execution_count": 8,
   "id": "b1667b4f",
   "metadata": {},
   "outputs": [
    {
     "data": {
      "image/png": "[encoded data removed]",
      "text/plain": [
       "<Figure size 1080x288 with 2 Axes>"
      ]
     },
     "metadata": {
      "needs_background": "light"
     },
     "output_type": "display_data"
    }
   ],
   "source": [
    "plt.figure(figsize=(15, 4))\n",
    "\n",
    "plt.subplot(121)\n",
    "sns.histplot(df_train['Healthcare_1'], bins=15)\n",
    "\n",
    "plt.subplot(122)\n",
    "sns.histplot(df_train['Helthcare_2'], bins=6)\n",
    "\n",
    "plt.show()"
   ]
  },
  {
   "cell_type": "code",
   "execution_count": 9,
   "id": "1dcbb6cd",
   "metadata": {},
   "outputs": [
    {
     "data": {
      "image/png": "[encoded data removed]",
      "text/plain": [
       "<Figure size 432x432 with 3 Axes>"
      ]
     },
     "metadata": {
      "needs_background": "light"
     },
     "output_type": "display_data"
    }
   ],
   "source": [
    "sns.jointplot(df_train['Healthcare_1'], df_train['Helthcare_2'], kind='reg')\n",
    "plt.show()"
   ]
  },
  {
   "cell_type": "markdown",
   "id": "03148672",
   "metadata": {},
   "source": [
    "Не похоже, что есть значительная связь между признаками Healthcare_1 и Helthcare_2. "
   ]
  },
  {
   "cell_type": "code",
   "execution_count": 10,
   "id": "8c5dc473",
   "metadata": {},
   "outputs": [
    {
     "data": {
      "image/png": "[encoded data removed]",
      "text/plain": [
       "<Figure size 1080x720 with 2 Axes>"
      ]
     },
     "metadata": {
      "needs_background": "light"
     },
     "output_type": "display_data"
    }
   ],
   "source": [
    "plt.figure(figsize=(15, 10))\n",
    "sns.set(font_scale=1.2)\n",
    "corr_matrix = df_train.corr()\n",
    "corr_matrix = np.round(corr_matrix, 2)\n",
    "corr_matrix[np.abs(corr_matrix) < 0.2] = 0\n",
    "sns.heatmap(corr_matrix, annot=True, linewidths=.6, cmap='coolwarm')\n",
    "plt.title('Correlation matrix')\n",
    "plt.show()"
   ]
  },
  {
   "cell_type": "markdown",
   "id": "f71ff73f",
   "metadata": {},
   "source": [
    "По матрице корреляций видно:\n",
    "\n",
    "1. Корреляция между Healthcare_1 и Helthcare_2 почти отсутствует (Будет полезно знать при заполнении пропусков).\n",
    "\n",
    "2. Корреляция по признакам площади так же почти отсутствует (за исключением признаков Rooms и Square).\n",
    "\n",
    "3. Значительная корреляция между Social_1 и Social_2 - 0.96\n",
    "\n",
    "4. Корреляции между:\n",
    "    Rooms и Square         - 0.66\n",
    "    Social_3 и Shops_1     - 0.66\n",
    "    Social_2 и Shops_1     - 0.56\n",
    "    Social_1 и Helthcare_2 - 0.52\n",
    "    Social_2 и Helthcare_2 - 0.47\n",
    "    Shops_1 и Helthcare_2  - 0.47\n",
    "    Price и Rooms          - 0.55\n",
    "    Price и Squre          - 0.52\n",
    "    \n",
    "5. Прочие незначительны."
   ]
  },
  {
   "cell_type": "code",
   "execution_count": 11,
   "id": "4b20f851",
   "metadata": {},
   "outputs": [
    {
     "data": {
      "text/html": [
       "<div>\n",
       "<style scoped>\n",
       "    .dataframe tbody tr th:only-of-type {\n",
       "        vertical-align: middle;\n",
       "    }\n",
       "\n",
       "    .dataframe tbody tr th {\n",
       "        vertical-align: top;\n",
       "    }\n",
       "\n",
       "    .dataframe thead th {\n",
       "        text-align: right;\n",
       "    }\n",
       "</style>\n",
       "<table border=\"1\" class=\"dataframe\">\n",
       "  <thead>\n",
       "    <tr style=\"text-align: right;\">\n",
       "      <th></th>\n",
       "      <th>Id</th>\n",
       "      <th>DistrictId</th>\n",
       "      <th>Rooms</th>\n",
       "      <th>Square</th>\n",
       "      <th>LifeSquare</th>\n",
       "      <th>KitchenSquare</th>\n",
       "      <th>Floor</th>\n",
       "      <th>HouseFloor</th>\n",
       "      <th>HouseYear</th>\n",
       "      <th>Ecology_1</th>\n",
       "      <th>Social_1</th>\n",
       "      <th>Social_2</th>\n",
       "      <th>Social_3</th>\n",
       "      <th>Healthcare_1</th>\n",
       "      <th>Helthcare_2</th>\n",
       "      <th>Shops_1</th>\n",
       "      <th>Price</th>\n",
       "    </tr>\n",
       "  </thead>\n",
       "  <tbody>\n",
       "    <tr>\n",
       "      <th>count</th>\n",
       "      <td>10000.00000</td>\n",
       "      <td>10000.000000</td>\n",
       "      <td>10000.000000</td>\n",
       "      <td>10000.000000</td>\n",
       "      <td>7887.000000</td>\n",
       "      <td>10000.000000</td>\n",
       "      <td>10000.000000</td>\n",
       "      <td>10000.000000</td>\n",
       "      <td>1.000000e+04</td>\n",
       "      <td>10000.000000</td>\n",
       "      <td>10000.000000</td>\n",
       "      <td>10000.000000</td>\n",
       "      <td>10000.000000</td>\n",
       "      <td>5202.000000</td>\n",
       "      <td>10000.000000</td>\n",
       "      <td>10000.000000</td>\n",
       "      <td>10000.000000</td>\n",
       "    </tr>\n",
       "    <tr>\n",
       "      <th>mean</th>\n",
       "      <td>8383.40770</td>\n",
       "      <td>50.400800</td>\n",
       "      <td>1.890500</td>\n",
       "      <td>56.315775</td>\n",
       "      <td>37.199645</td>\n",
       "      <td>6.273300</td>\n",
       "      <td>8.526700</td>\n",
       "      <td>12.609400</td>\n",
       "      <td>3.990166e+03</td>\n",
       "      <td>0.118858</td>\n",
       "      <td>24.687000</td>\n",
       "      <td>5352.157400</td>\n",
       "      <td>8.039200</td>\n",
       "      <td>1142.904460</td>\n",
       "      <td>1.319500</td>\n",
       "      <td>4.231300</td>\n",
       "      <td>214138.857399</td>\n",
       "    </tr>\n",
       "    <tr>\n",
       "      <th>std</th>\n",
       "      <td>4859.01902</td>\n",
       "      <td>43.587592</td>\n",
       "      <td>0.839512</td>\n",
       "      <td>21.058732</td>\n",
       "      <td>86.241209</td>\n",
       "      <td>28.560917</td>\n",
       "      <td>5.241148</td>\n",
       "      <td>6.775974</td>\n",
       "      <td>2.005003e+05</td>\n",
       "      <td>0.119025</td>\n",
       "      <td>17.532614</td>\n",
       "      <td>4006.799803</td>\n",
       "      <td>23.831875</td>\n",
       "      <td>1021.517264</td>\n",
       "      <td>1.493601</td>\n",
       "      <td>4.806341</td>\n",
       "      <td>92872.293865</td>\n",
       "    </tr>\n",
       "    <tr>\n",
       "      <th>min</th>\n",
       "      <td>0.00000</td>\n",
       "      <td>0.000000</td>\n",
       "      <td>0.000000</td>\n",
       "      <td>1.136859</td>\n",
       "      <td>0.370619</td>\n",
       "      <td>0.000000</td>\n",
       "      <td>1.000000</td>\n",
       "      <td>0.000000</td>\n",
       "      <td>1.910000e+03</td>\n",
       "      <td>0.000000</td>\n",
       "      <td>0.000000</td>\n",
       "      <td>168.000000</td>\n",
       "      <td>0.000000</td>\n",
       "      <td>0.000000</td>\n",
       "      <td>0.000000</td>\n",
       "      <td>0.000000</td>\n",
       "      <td>59174.778028</td>\n",
       "    </tr>\n",
       "    <tr>\n",
       "      <th>25%</th>\n",
       "      <td>4169.50000</td>\n",
       "      <td>20.000000</td>\n",
       "      <td>1.000000</td>\n",
       "      <td>41.774881</td>\n",
       "      <td>22.769832</td>\n",
       "      <td>1.000000</td>\n",
       "      <td>4.000000</td>\n",
       "      <td>9.000000</td>\n",
       "      <td>1.974000e+03</td>\n",
       "      <td>0.017647</td>\n",
       "      <td>6.000000</td>\n",
       "      <td>1564.000000</td>\n",
       "      <td>0.000000</td>\n",
       "      <td>350.000000</td>\n",
       "      <td>0.000000</td>\n",
       "      <td>1.000000</td>\n",
       "      <td>153872.633942</td>\n",
       "    </tr>\n",
       "    <tr>\n",
       "      <th>50%</th>\n",
       "      <td>8394.50000</td>\n",
       "      <td>36.000000</td>\n",
       "      <td>2.000000</td>\n",
       "      <td>52.513310</td>\n",
       "      <td>32.781260</td>\n",
       "      <td>6.000000</td>\n",
       "      <td>7.000000</td>\n",
       "      <td>13.000000</td>\n",
       "      <td>1.977000e+03</td>\n",
       "      <td>0.075424</td>\n",
       "      <td>25.000000</td>\n",
       "      <td>5285.000000</td>\n",
       "      <td>2.000000</td>\n",
       "      <td>900.000000</td>\n",
       "      <td>1.000000</td>\n",
       "      <td>3.000000</td>\n",
       "      <td>192269.644879</td>\n",
       "    </tr>\n",
       "    <tr>\n",
       "      <th>75%</th>\n",
       "      <td>12592.50000</td>\n",
       "      <td>75.000000</td>\n",
       "      <td>2.000000</td>\n",
       "      <td>65.900625</td>\n",
       "      <td>45.128803</td>\n",
       "      <td>9.000000</td>\n",
       "      <td>12.000000</td>\n",
       "      <td>17.000000</td>\n",
       "      <td>2.001000e+03</td>\n",
       "      <td>0.195781</td>\n",
       "      <td>36.000000</td>\n",
       "      <td>7227.000000</td>\n",
       "      <td>5.000000</td>\n",
       "      <td>1548.000000</td>\n",
       "      <td>2.000000</td>\n",
       "      <td>6.000000</td>\n",
       "      <td>249135.462171</td>\n",
       "    </tr>\n",
       "    <tr>\n",
       "      <th>max</th>\n",
       "      <td>16798.00000</td>\n",
       "      <td>209.000000</td>\n",
       "      <td>19.000000</td>\n",
       "      <td>641.065193</td>\n",
       "      <td>7480.592129</td>\n",
       "      <td>2014.000000</td>\n",
       "      <td>42.000000</td>\n",
       "      <td>117.000000</td>\n",
       "      <td>2.005201e+07</td>\n",
       "      <td>0.521867</td>\n",
       "      <td>74.000000</td>\n",
       "      <td>19083.000000</td>\n",
       "      <td>141.000000</td>\n",
       "      <td>4849.000000</td>\n",
       "      <td>6.000000</td>\n",
       "      <td>23.000000</td>\n",
       "      <td>633233.466570</td>\n",
       "    </tr>\n",
       "  </tbody>\n",
       "</table>\n",
       "</div>"
      ],
      "text/plain": [
       "                Id    DistrictId         Rooms        Square   LifeSquare  \\\n",
       "count  10000.00000  10000.000000  10000.000000  10000.000000  7887.000000   \n",
       "mean    8383.40770     50.400800      1.890500     56.315775    37.199645   \n",
       "std     4859.01902     43.587592      0.839512     21.058732    86.241209   \n",
       "min        0.00000      0.000000      0.000000      1.136859     0.370619   \n",
       "25%     4169.50000     20.000000      1.000000     41.774881    22.769832   \n",
       "50%     8394.50000     36.000000      2.000000     52.513310    32.781260   \n",
       "75%    12592.50000     75.000000      2.000000     65.900625    45.128803   \n",
       "max    16798.00000    209.000000     19.000000    641.065193  7480.592129   \n",
       "\n",
       "       KitchenSquare         Floor    HouseFloor     HouseYear     Ecology_1  \\\n",
       "count   10000.000000  10000.000000  10000.000000  1.000000e+04  10000.000000   \n",
       "mean        6.273300      8.526700     12.609400  3.990166e+03      0.118858   \n",
       "std        28.560917      5.241148      6.775974  2.005003e+05      0.119025   \n",
       "min         0.000000      1.000000      0.000000  1.910000e+03      0.000000   \n",
       "25%         1.000000      4.000000      9.000000  1.974000e+03      0.017647   \n",
       "50%         6.000000      7.000000     13.000000  1.977000e+03      0.075424   \n",
       "75%         9.000000     12.000000     17.000000  2.001000e+03      0.195781   \n",
       "max      2014.000000     42.000000    117.000000  2.005201e+07      0.521867   \n",
       "\n",
       "           Social_1      Social_2      Social_3  Healthcare_1   Helthcare_2  \\\n",
       "count  10000.000000  10000.000000  10000.000000   5202.000000  10000.000000   \n",
       "mean      24.687000   5352.157400      8.039200   1142.904460      1.319500   \n",
       "std       17.532614   4006.799803     23.831875   1021.517264      1.493601   \n",
       "min        0.000000    168.000000      0.000000      0.000000      0.000000   \n",
       "25%        6.000000   1564.000000      0.000000    350.000000      0.000000   \n",
       "50%       25.000000   5285.000000      2.000000    900.000000      1.000000   \n",
       "75%       36.000000   7227.000000      5.000000   1548.000000      2.000000   \n",
       "max       74.000000  19083.000000    141.000000   4849.000000      6.000000   \n",
       "\n",
       "            Shops_1          Price  \n",
       "count  10000.000000   10000.000000  \n",
       "mean       4.231300  214138.857399  \n",
       "std        4.806341   92872.293865  \n",
       "min        0.000000   59174.778028  \n",
       "25%        1.000000  153872.633942  \n",
       "50%        3.000000  192269.644879  \n",
       "75%        6.000000  249135.462171  \n",
       "max       23.000000  633233.466570  "
      ]
     },
     "execution_count": 11,
     "metadata": {},
     "output_type": "execute_result"
    }
   ],
   "source": [
    "df_train.describe()"
   ]
  },
  {
   "cell_type": "markdown",
   "id": "5538a536",
   "metadata": {},
   "source": [
    "По max значениям LifeSquare, KitchenSquare и, возможно, Social_3 и HouseYear видно, что, скорее всего, в этих признаках присутствуют выбросы."
   ]
  },
  {
   "cell_type": "markdown",
   "id": "f7e0bc86",
   "metadata": {},
   "source": [
    "LifeSquare"
   ]
  },
  {
   "cell_type": "code",
   "execution_count": 12,
   "id": "7985227a",
   "metadata": {},
   "outputs": [
    {
     "data": {
      "text/plain": [
       "5183     461.463614\n",
       "7010     410.639749\n",
       "8000    7480.592129\n",
       "9229     638.163193\n",
       "Name: LifeSquare, dtype: float64"
      ]
     },
     "execution_count": 12,
     "metadata": {},
     "output_type": "execute_result"
    }
   ],
   "source": [
    "df_train.loc[(df_train['LifeSquare'] > 300), 'LifeSquare']"
   ]
  },
  {
   "cell_type": "code",
   "execution_count": 13,
   "id": "84177c5e",
   "metadata": {},
   "outputs": [
    {
     "data": {
      "text/plain": [
       "26      4.769174\n",
       "119     0.795539\n",
       "212     3.064320\n",
       "227     1.944446\n",
       "258     4.091945\n",
       "          ...   \n",
       "9331    4.660610\n",
       "9462    3.288779\n",
       "9869    0.873147\n",
       "9938    2.637095\n",
       "9982    1.855415\n",
       "Name: LifeSquare, Length: 162, dtype: float64"
      ]
     },
     "execution_count": 13,
     "metadata": {},
     "output_type": "execute_result"
    }
   ],
   "source": [
    "df_train.loc[(df_train['LifeSquare'] < 5), 'LifeSquare']"
   ]
  },
  {
   "cell_type": "markdown",
   "id": "e0219af8",
   "metadata": {},
   "source": [
    "Такие жилые площади явно можно считать выбросами, при создании функции по предобработке заменим их медианой"
   ]
  },
  {
   "cell_type": "markdown",
   "id": "1784245d",
   "metadata": {},
   "source": [
    "KitchenSquare"
   ]
  },
  {
   "cell_type": "code",
   "execution_count": 14,
   "id": "71250331",
   "metadata": {},
   "outputs": [
    {
     "data": {
      "image/png": "[encoded data removed]",
      "text/plain": [
       "<Figure size 1152x144 with 1 Axes>"
      ]
     },
     "metadata": {},
     "output_type": "display_data"
    }
   ],
   "source": [
    "plt.figure(figsize=(16, 2))\n",
    "sns.boxplot(df_train['KitchenSquare'])\n",
    "plt.show()"
   ]
  },
  {
   "cell_type": "code",
   "execution_count": 15,
   "id": "e8b0b969",
   "metadata": {},
   "outputs": [
    {
     "data": {
      "text/plain": [
       "286      123.0\n",
       "682       62.0\n",
       "1728      72.0\n",
       "2454      96.0\n",
       "2785      84.0\n",
       "2831      78.0\n",
       "3240      66.0\n",
       "3586      51.0\n",
       "3725      60.0\n",
       "3956      75.0\n",
       "5002     112.0\n",
       "5273      73.0\n",
       "5663      58.0\n",
       "5792      63.0\n",
       "6293      51.0\n",
       "6505    1970.0\n",
       "7080      53.0\n",
       "7601      58.0\n",
       "7733     112.0\n",
       "8329      54.0\n",
       "9520    2014.0\n",
       "Name: KitchenSquare, dtype: float64"
      ]
     },
     "execution_count": 15,
     "metadata": {},
     "output_type": "execute_result"
    }
   ],
   "source": [
    "df_train.loc[df_train['KitchenSquare'] > 50, 'KitchenSquare']"
   ]
  },
  {
   "cell_type": "markdown",
   "id": "5d29e212",
   "metadata": {},
   "source": [
    "Выбросы по площади кухни (всё что выше квантили 97.5% будем заменять медианой)"
   ]
  },
  {
   "cell_type": "markdown",
   "id": "5461677e",
   "metadata": {},
   "source": [
    "Social_3"
   ]
  },
  {
   "cell_type": "code",
   "execution_count": 16,
   "id": "a0906e7b",
   "metadata": {},
   "outputs": [
    {
     "data": {
      "text/plain": [
       "count    10000.000000\n",
       "mean         8.039200\n",
       "std         23.831875\n",
       "min          0.000000\n",
       "25%          0.000000\n",
       "50%          2.000000\n",
       "75%          5.000000\n",
       "max        141.000000\n",
       "Name: Social_3, dtype: float64"
      ]
     },
     "execution_count": 16,
     "metadata": {},
     "output_type": "execute_result"
    }
   ],
   "source": [
    "df_train['Social_3'].describe()"
   ]
  },
  {
   "cell_type": "markdown",
   "id": "dfdb27d8",
   "metadata": {},
   "source": [
    "Судя по значению max и разнице значений mean и std можно сделать вывод что в Social_3 так же присутствуют выбросы.\n",
    "Всё что выше квантили 75%(подобрано эксперементально) будем заменять медианой."
   ]
  },
  {
   "cell_type": "markdown",
   "id": "95d9ec8d",
   "metadata": {},
   "source": [
    "House_Year"
   ]
  },
  {
   "cell_type": "code",
   "execution_count": 17,
   "id": "830d5eaa",
   "metadata": {},
   "outputs": [
    {
     "data": {
      "text/plain": [
       "8828        4968\n",
       "9163    20052011\n",
       "Name: HouseYear, dtype: int64"
      ]
     },
     "execution_count": 17,
     "metadata": {},
     "output_type": "execute_result"
    }
   ],
   "source": [
    "df_train.loc[(df_train['HouseYear'] > 2021) | (df_train['HouseYear'] < 1900), 'HouseYear']"
   ]
  },
  {
   "cell_type": "markdown",
   "id": "a8bbe6d4",
   "metadata": {},
   "source": [
    "И так же заменими меданой"
   ]
  },
  {
   "cell_type": "markdown",
   "id": "286f611c",
   "metadata": {},
   "source": [
    "#### Обработка пропусков"
   ]
  },
  {
   "cell_type": "code",
   "execution_count": 18,
   "id": "56cc1136",
   "metadata": {},
   "outputs": [
    {
     "name": "stdout",
     "output_type": "stream",
     "text": [
      "<class 'pandas.core.frame.DataFrame'>\n",
      "RangeIndex: 10000 entries, 0 to 9999\n",
      "Data columns (total 20 columns):\n",
      " #   Column         Non-Null Count  Dtype  \n",
      "---  ------         --------------  -----  \n",
      " 0   Id             10000 non-null  int64  \n",
      " 1   DistrictId     10000 non-null  int64  \n",
      " 2   Rooms          10000 non-null  float64\n",
      " 3   Square         10000 non-null  float64\n",
      " 4   LifeSquare     7887 non-null   float64\n",
      " 5   KitchenSquare  10000 non-null  float64\n",
      " 6   Floor          10000 non-null  int64  \n",
      " 7   HouseFloor     10000 non-null  float64\n",
      " 8   HouseYear      10000 non-null  int64  \n",
      " 9   Ecology_1      10000 non-null  float64\n",
      " 10  Ecology_2      10000 non-null  object \n",
      " 11  Ecology_3      10000 non-null  object \n",
      " 12  Social_1       10000 non-null  int64  \n",
      " 13  Social_2       10000 non-null  int64  \n",
      " 14  Social_3       10000 non-null  int64  \n",
      " 15  Healthcare_1   5202 non-null   float64\n",
      " 16  Helthcare_2    10000 non-null  int64  \n",
      " 17  Shops_1        10000 non-null  int64  \n",
      " 18  Shops_2        10000 non-null  object \n",
      " 19  Price          10000 non-null  float64\n",
      "dtypes: float64(8), int64(9), object(3)\n",
      "memory usage: 1.5+ MB\n"
     ]
    }
   ],
   "source": [
    "df_train.info()"
   ]
  },
  {
   "cell_type": "markdown",
   "id": "778e226c",
   "metadata": {},
   "source": [
    "Пропуски в LifeSquare будем заменять разницой значений Square и KitchenSquare "
   ]
  },
  {
   "cell_type": "markdown",
   "id": "0861d60e",
   "metadata": {},
   "source": [
    "#### Создание функции для обработки выбросов, пропусков и создания новых признаков"
   ]
  },
  {
   "cell_type": "code",
   "execution_count": 19,
   "id": "fb2fe149",
   "metadata": {},
   "outputs": [],
   "source": [
    "def transform(df):    \n",
    "    \n",
    "    # Замена выбросов\n",
    "    \n",
    "    # LifeSquare - пришлось переместить в конец функции, потому что находясь здесь по неведомой причине\n",
    "    # эти строчки кода не выполняются\n",
    "\n",
    "    #     df.loc[df['LifeSquare'] > 300, 'LifeSquare'] = df_train['LifeSquare'].median()\n",
    "    #     df.loc[(df['LifeSquare'] < 10 ), 'LifeSquare'] = df_train['LifeSquare'].median()\n",
    "    \n",
    "    # KitchenSquare\n",
    "    df.loc[df['KitchenSquare'] > np.quantile(df['KitchenSquare'], q=0.975), 'KitchenSquare']\\\n",
    "        = df_train['KitchenSquare'].median()\n",
    "    \n",
    "    # HouseYear\n",
    "    df.loc[(df['HouseYear'] > 2021), 'HouseYear'] = np.median(df_train['HouseYear'])\n",
    "    \n",
    "    # Social_3\n",
    "    df.loc[(df['Social_3'] > np.quantile(df['Social_3'], q=0.75)), 'Social_3'] = df_train['Social_3'].median()\n",
    "\n",
    "    # Замена пропусков\n",
    "    \n",
    "    # LifeSquare\n",
    "    df.loc[df['LifeSquare'].isna(), 'LifeSquare'] = df['Square'] - df['KitchenSquare']\n",
    "\n",
    "    \n",
    "    # HealthCare_1 не будем использовать для анализа ввиду большого количества пропусков.\n",
    "    \n",
    "    # Универсальная замена пропусков (на всякий случай)\n",
    "    material_features = ['DistrictId', 'Rooms', 'Square', 'LifeSquare',\n",
    "                             'KitchenSquare', 'Floor', 'HouseFloor', 'HouseYear',\n",
    "                             'Ecology_1', 'Social_1', 'Social_2', 'Social_3',\n",
    "                             'Healthcare_1','Helthcare_2', 'Shops_1']\n",
    "    for feature in material_features:\n",
    "        df[f'{feature}'].fillna(df_train[f'{feature}'].median(), inplace=True)\n",
    "    \n",
    "    # Создание новых признаков\n",
    "    \n",
    "    # Создание dummi\n",
    "    df = pd.get_dummies(df)\n",
    "    \n",
    "    # Создание DistrictSize (идея из файла baseline)\n",
    "    district_size = df_train['DistrictId'].value_counts().reset_index()\\\n",
    "        .rename(columns={'index':'DistrictId', 'DistrictId':'DistrictSize'})\n",
    "    df = df.merge(district_size, on='DistrictId', how='left')\n",
    "    \n",
    "    # Target encoding (идея из файла baseline)\n",
    "    med_price_by_district = df_train.groupby(['DistrictId', 'Rooms'], as_index=False).agg({'Price':'median'})\\\n",
    "                                            .rename(columns={'Price':'MedPriceByDistrict'})\n",
    "            \n",
    "    med_price_by_district = df_train.groupby(['DistrictId', 'Rooms'], as_index=False).agg({'Price':'median'})\\\n",
    "                            .rename(columns={'Price':'MedPriceByDistrict'})\n",
    "    df = df.merge(med_price_by_district, on=['DistrictId', 'Rooms'], how='left')\n",
    "    \n",
    "    # Замена пропусков новых признаков\n",
    "    try:\n",
    "        df['DistrictSize'].fillna(df_train['DistrictSize'].median(), inplace=True)\n",
    "        df['MedPriceByDistrict'].fillna(df_train['MedPriceByDistrict'].median(), inplace=True)\n",
    "    except:\n",
    "        pass\n",
    "    \n",
    "    # Замена выбросов LifeSquare\n",
    "    df.loc[df['LifeSquare'] > 300, 'LifeSquare'] = df_train['LifeSquare'].median()\n",
    "    df.loc[(df['LifeSquare'] < 10 ), 'LifeSquare'] = df_train['LifeSquare'].median()\n",
    "    return df"
   ]
  },
  {
   "cell_type": "code",
   "execution_count": 20,
   "id": "91d7eb8a",
   "metadata": {},
   "outputs": [
    {
     "name": "stdout",
     "output_type": "stream",
     "text": [
      "Memory usage of dataframe is 1.53 MB\n",
      "Memory usage after optimization is: 0.49 MB\n",
      "Decreased by 68.1%\n",
      "\n"
     ]
    }
   ],
   "source": [
    "reduce_mem_usage(df_train)\n",
    "print('')"
   ]
  },
  {
   "cell_type": "code",
   "execution_count": 21,
   "id": "f703ffa7",
   "metadata": {},
   "outputs": [],
   "source": [
    "df_train = transform(df_train)"
   ]
  },
  {
   "cell_type": "markdown",
   "id": "e707dbbd",
   "metadata": {},
   "source": [
    "Посмотрим как изменились признаки после преобразования."
   ]
  },
  {
   "cell_type": "code",
   "execution_count": 22,
   "id": "bcb41ed9",
   "metadata": {},
   "outputs": [
    {
     "data": {
      "image/png": "[encoded data removed]",
      "text/plain": [
       "<Figure size 1152x144 with 1 Axes>"
      ]
     },
     "metadata": {},
     "output_type": "display_data"
    }
   ],
   "source": [
    "plt.figure(figsize=(16, 2))\n",
    "sns.boxplot(df_train['LifeSquare'])\n",
    "plt.show()"
   ]
  },
  {
   "cell_type": "code",
   "execution_count": 23,
   "id": "cd360327",
   "metadata": {},
   "outputs": [
    {
     "data": {
      "image/png": "[encoded data removed]",
      "text/plain": [
       "<Figure size 1152x144 with 1 Axes>"
      ]
     },
     "metadata": {},
     "output_type": "display_data"
    }
   ],
   "source": [
    "plt.figure(figsize=(16, 2))\n",
    "sns.boxplot(df_train['KitchenSquare'])\n",
    "plt.show()"
   ]
  },
  {
   "cell_type": "code",
   "execution_count": 24,
   "id": "5141c99c",
   "metadata": {},
   "outputs": [
    {
     "data": {
      "image/png": "[encoded data removed]",
      "text/plain": [
       "<Figure size 1152x144 with 1 Axes>"
      ]
     },
     "metadata": {},
     "output_type": "display_data"
    }
   ],
   "source": [
    "plt.figure(figsize=(16, 2))\n",
    "sns.boxplot(df_train['Social_3'])\n",
    "plt.show()"
   ]
  },
  {
   "cell_type": "code",
   "execution_count": 25,
   "id": "7e903f42",
   "metadata": {},
   "outputs": [
    {
     "data": {
      "image/png": "[encoded data removed]",
      "text/plain": [
       "<Figure size 1152x144 with 1 Axes>"
      ]
     },
     "metadata": {},
     "output_type": "display_data"
    }
   ],
   "source": [
    "plt.figure(figsize=(16, 2))\n",
    "sns.boxplot(df_train['HouseYear'])\n",
    "plt.show()"
   ]
  },
  {
   "cell_type": "code",
   "execution_count": 26,
   "id": "435db762",
   "metadata": {},
   "outputs": [
    {
     "name": "stdout",
     "output_type": "stream",
     "text": [
      "<class 'pandas.core.frame.DataFrame'>\n",
      "Int64Index: 10000 entries, 0 to 9999\n",
      "Data columns (total 25 columns):\n",
      " #   Column              Non-Null Count  Dtype  \n",
      "---  ------              --------------  -----  \n",
      " 0   Id                  10000 non-null  int16  \n",
      " 1   DistrictId          10000 non-null  int16  \n",
      " 2   Rooms               10000 non-null  float32\n",
      " 3   Square              10000 non-null  float32\n",
      " 4   LifeSquare          10000 non-null  float32\n",
      " 5   KitchenSquare       10000 non-null  float32\n",
      " 6   Floor               10000 non-null  int8   \n",
      " 7   HouseFloor          10000 non-null  float32\n",
      " 8   HouseYear           10000 non-null  int32  \n",
      " 9   Ecology_1           10000 non-null  float32\n",
      " 10  Social_1            10000 non-null  int8   \n",
      " 11  Social_2            10000 non-null  int16  \n",
      " 12  Social_3            10000 non-null  int16  \n",
      " 13  Healthcare_1        10000 non-null  float32\n",
      " 14  Helthcare_2         10000 non-null  int8   \n",
      " 15  Shops_1             10000 non-null  int8   \n",
      " 16  Price               10000 non-null  float32\n",
      " 17  Ecology_2_A         10000 non-null  uint8  \n",
      " 18  Ecology_2_B         10000 non-null  uint8  \n",
      " 19  Ecology_3_A         10000 non-null  uint8  \n",
      " 20  Ecology_3_B         10000 non-null  uint8  \n",
      " 21  Shops_2_A           10000 non-null  uint8  \n",
      " 22  Shops_2_B           10000 non-null  uint8  \n",
      " 23  DistrictSize        10000 non-null  int64  \n",
      " 24  MedPriceByDistrict  10000 non-null  float32\n",
      "dtypes: float32(9), int16(4), int32(1), int64(1), int8(4), uint8(6)\n",
      "memory usage: 722.7 KB\n"
     ]
    }
   ],
   "source": [
    "df_train.info()"
   ]
  },
  {
   "cell_type": "markdown",
   "id": "63d07098",
   "metadata": {},
   "source": [
    "Теперь, когда мы видим, что данные в порядке, можно приступать к отбору признаков"
   ]
  },
  {
   "cell_type": "markdown",
   "id": "a08cbac5",
   "metadata": {},
   "source": [
    "### Отбор признаков"
   ]
  },
  {
   "cell_type": "code",
   "execution_count": 27,
   "id": "ff2a3f27",
   "metadata": {},
   "outputs": [
    {
     "data": {
      "text/plain": [
       "['Id',\n",
       " 'DistrictId',\n",
       " 'Rooms',\n",
       " 'Square',\n",
       " 'LifeSquare',\n",
       " 'KitchenSquare',\n",
       " 'Floor',\n",
       " 'HouseFloor',\n",
       " 'HouseYear',\n",
       " 'Ecology_1',\n",
       " 'Social_1',\n",
       " 'Social_2',\n",
       " 'Social_3',\n",
       " 'Healthcare_1',\n",
       " 'Helthcare_2',\n",
       " 'Shops_1',\n",
       " 'Price',\n",
       " 'Ecology_2_A',\n",
       " 'Ecology_2_B',\n",
       " 'Ecology_3_A',\n",
       " 'Ecology_3_B',\n",
       " 'Shops_2_A',\n",
       " 'Shops_2_B',\n",
       " 'DistrictSize',\n",
       " 'MedPriceByDistrict']"
      ]
     },
     "execution_count": 27,
     "metadata": {},
     "output_type": "execute_result"
    }
   ],
   "source": [
    "df_train.columns.to_list()"
   ]
  },
  {
   "cell_type": "code",
   "execution_count": 28,
   "id": "00591766",
   "metadata": {},
   "outputs": [],
   "source": [
    "feature_names = ['Rooms', 'Square', 'LifeSquare', 'KitchenSquare',\n",
    "                 'Floor', 'HouseFloor', 'HouseYear', 'Ecology_1',\n",
    "                 'Social_1', 'Social_2', 'Social_3', 'Helthcare_2',\n",
    "                 'Shops_1', 'Ecology_2_A', 'Ecology_2_B', 'Ecology_3_A',\n",
    "                 'Ecology_3_B', 'Shops_2_A', 'Shops_2_B', 'DistrictSize',\n",
    "                 'MedPriceByDistrict']\n",
    "target_name = 'Price'"
   ]
  },
  {
   "cell_type": "markdown",
   "id": "7e58dec3",
   "metadata": {},
   "source": [
    "#### Преобразование датасета с учётом нужных и не нужных признаков"
   ]
  },
  {
   "cell_type": "code",
   "execution_count": 29,
   "id": "94e1e78e",
   "metadata": {},
   "outputs": [],
   "source": [
    "X = df_train[feature_names]\n",
    "y = df_train[[target_name]]\n",
    "X_train, X_valid, y_train, y_valid = train_test_split(X, y, test_size=.25)"
   ]
  },
  {
   "cell_type": "markdown",
   "id": "651eea46",
   "metadata": {},
   "source": [
    "### Построение модели"
   ]
  },
  {
   "cell_type": "code",
   "execution_count": 30,
   "id": "2c65c1e2",
   "metadata": {},
   "outputs": [],
   "source": [
    "rfcv = RandomForestRegressor(criterion='mse',\n",
    "                            random_state=66)\n",
    "params = {'n_estimators' : [20, 40, 60, 80, 100],\n",
    "         'min_samples_leaf' : range(2, 7),\n",
    "         'max_depth' : range(10, 30)}"
   ]
  },
  {
   "cell_type": "code",
   "execution_count": 31,
   "id": "90e1f477",
   "metadata": {},
   "outputs": [],
   "source": [
    "# %%time\n",
    "# gs = GridSearchCV(rfcv, params,\n",
    "#                  scoring='r2',\n",
    "#                  cv=KFold(n_splits=5,\n",
    "#                          random_state=66,\n",
    "#                          shuffle=True),\n",
    "#                  n_jobs=-1)\n",
    "# gs.fit(X_train, y_train)"
   ]
  },
  {
   "cell_type": "code",
   "execution_count": 32,
   "id": "790edec3",
   "metadata": {},
   "outputs": [],
   "source": [
    "# gs.best_params_"
   ]
  },
  {
   "cell_type": "code",
   "execution_count": 33,
   "id": "c6284eb8",
   "metadata": {},
   "outputs": [],
   "source": [
    "rf = RandomForestRegressor(criterion='mse',\n",
    "                          max_depth=25,\n",
    "                          min_samples_leaf=3,\n",
    "                          random_state=66,\n",
    "                          n_estimators=120)"
   ]
  },
  {
   "cell_type": "markdown",
   "id": "adfa5d2a",
   "metadata": {},
   "source": [
    "Метрика на валидационном датасете"
   ]
  },
  {
   "cell_type": "code",
   "execution_count": 34,
   "id": "00661179",
   "metadata": {},
   "outputs": [
    {
     "data": {
      "text/plain": [
       "0.7618585852966753"
      ]
     },
     "execution_count": 34,
     "metadata": {},
     "output_type": "execute_result"
    }
   ],
   "source": [
    "rf.fit(X_train, y_train)\n",
    "y_pred_valid = rf.predict(X_valid)\n",
    "r2_score(y_valid, y_pred_valid)"
   ]
  },
  {
   "cell_type": "markdown",
   "id": "e071a4f6",
   "metadata": {},
   "source": [
    "Метрика на тренировчном датасете"
   ]
  },
  {
   "cell_type": "code",
   "execution_count": 35,
   "id": "1ea9281e",
   "metadata": {},
   "outputs": [
    {
     "data": {
      "text/plain": [
       "0.9189009138744759"
      ]
     },
     "execution_count": 35,
     "metadata": {},
     "output_type": "execute_result"
    }
   ],
   "source": [
    "y_pred_train = rf.predict(X_train)\n",
    "r2_score(y_train, y_pred_train)"
   ]
  },
  {
   "cell_type": "markdown",
   "id": "735a9c76",
   "metadata": {},
   "source": [
    "### Предсказание на тесте"
   ]
  },
  {
   "cell_type": "code",
   "execution_count": 36,
   "id": "c10e5234",
   "metadata": {},
   "outputs": [
    {
     "data": {
      "text/plain": [
       "['Id',\n",
       " 'DistrictId',\n",
       " 'Rooms',\n",
       " 'Square',\n",
       " 'LifeSquare',\n",
       " 'KitchenSquare',\n",
       " 'Floor',\n",
       " 'HouseFloor',\n",
       " 'HouseYear',\n",
       " 'Ecology_1',\n",
       " 'Social_1',\n",
       " 'Social_2',\n",
       " 'Social_3',\n",
       " 'Healthcare_1',\n",
       " 'Helthcare_2',\n",
       " 'Shops_1',\n",
       " 'Ecology_2_A',\n",
       " 'Ecology_2_B',\n",
       " 'Ecology_3_A',\n",
       " 'Ecology_3_B',\n",
       " 'Shops_2_A',\n",
       " 'Shops_2_B',\n",
       " 'DistrictSize',\n",
       " 'MedPriceByDistrict']"
      ]
     },
     "execution_count": 36,
     "metadata": {},
     "output_type": "execute_result"
    }
   ],
   "source": [
    "df_test = transform(df_test)\n",
    "df_test.columns.to_list()"
   ]
  },
  {
   "cell_type": "code",
   "execution_count": 37,
   "id": "87c7a6e0",
   "metadata": {},
   "outputs": [
    {
     "name": "stdout",
     "output_type": "stream",
     "text": [
      "<class 'pandas.core.frame.DataFrame'>\n",
      "Int64Index: 5000 entries, 0 to 4999\n",
      "Data columns (total 21 columns):\n",
      " #   Column              Non-Null Count  Dtype  \n",
      "---  ------              --------------  -----  \n",
      " 0   Rooms               5000 non-null   float64\n",
      " 1   Square              5000 non-null   float64\n",
      " 2   LifeSquare          5000 non-null   float64\n",
      " 3   KitchenSquare       5000 non-null   float64\n",
      " 4   Floor               5000 non-null   int64  \n",
      " 5   HouseFloor          5000 non-null   float64\n",
      " 6   HouseYear           5000 non-null   int64  \n",
      " 7   Ecology_1           5000 non-null   float64\n",
      " 8   Social_1            5000 non-null   int64  \n",
      " 9   Social_2            5000 non-null   int64  \n",
      " 10  Social_3            5000 non-null   int64  \n",
      " 11  Helthcare_2         5000 non-null   int64  \n",
      " 12  Shops_1             5000 non-null   int64  \n",
      " 13  Ecology_2_A         5000 non-null   uint8  \n",
      " 14  Ecology_2_B         5000 non-null   uint8  \n",
      " 15  Ecology_3_A         5000 non-null   uint8  \n",
      " 16  Ecology_3_B         5000 non-null   uint8  \n",
      " 17  Shops_2_A           5000 non-null   uint8  \n",
      " 18  Shops_2_B           5000 non-null   uint8  \n",
      " 19  DistrictSize        5000 non-null   float64\n",
      " 20  MedPriceByDistrict  5000 non-null   float32\n",
      "dtypes: float32(1), float64(7), int64(7), uint8(6)\n",
      "memory usage: 634.8 KB\n"
     ]
    }
   ],
   "source": [
    "X_test = df_test[feature_names]\n",
    "X_test.info()"
   ]
  },
  {
   "cell_type": "code",
   "execution_count": 38,
   "id": "d719185b",
   "metadata": {},
   "outputs": [],
   "source": [
    "prediction = rf.predict(X_test)"
   ]
  },
  {
   "cell_type": "code",
   "execution_count": 39,
   "id": "6c4af72f",
   "metadata": {},
   "outputs": [],
   "source": [
    "submit = pd.read_csv('sample_submission.csv')\n",
    "submit['Price'] = prediction"
   ]
  },
  {
   "cell_type": "code",
   "execution_count": 40,
   "id": "c55dc8a1",
   "metadata": {},
   "outputs": [],
   "source": [
    "submit.to_csv('submit.csv', index=False)"
   ]
  }
 ],
 "metadata": {
  "kernelspec": {
   "display_name": "Python 3 (ipykernel)",
   "language": "python",
   "name": "python3"
  },
  "language_info": {
   "codemirror_mode": {
    "name": "ipython",
    "version": 3
   },
   "file_extension": ".py",
   "mimetype": "text/x-python",
   "name": "python",
   "nbconvert_exporter": "python",
   "pygments_lexer": "ipython3",
   "version": "3.10.5"
  }
 },
 "nbformat": 4,
 "nbformat_minor": 5
}
