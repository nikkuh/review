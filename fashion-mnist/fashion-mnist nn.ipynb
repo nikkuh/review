{
 "cells": [
  {
   "cell_type": "markdown",
   "metadata": {},
   "source": [
    "Использовать набор данных fashion-mnist\n",
    "\n",
    "Описать результаты для в зависимости от:\n",
    "1. Число нейронов в 2-слойной сети.\n",
    "2. Число слоев 2, 3, 5, 10 с близким по значению количеству нейронов\n",
    "3. Фиксировать для тренировочного и тестого набора метрику accuracy"
   ]
  },
  {
   "cell_type": "markdown",
   "metadata": {},
   "source": [
    "Проверить работу разных оптимизиторов (SGD, Adam, RMSProp) для одной модели и фиксировать accuracy для валидации и теста."
   ]
  },
  {
   "cell_type": "markdown",
   "metadata": {},
   "source": [
    "Что помогло улучшить качество классификации?"
   ]
  },
  {
   "cell_type": "markdown",
   "metadata": {},
   "source": [
    "Оценить качество модели по каждому классу (полнота, точность). Сделать выводы."
   ]
  },
  {
   "cell_type": "code",
   "execution_count": 1,
   "metadata": {},
   "outputs": [],
   "source": [
    "import numpy as np\n",
    "\n",
    "from keras.models import Sequential\n",
    "from keras.layers import Dense\n",
    "from keras.utils import to_categorical\n",
    "from keras.datasets import fashion_mnist\n",
    "\n",
    "from sklearn.metrics import classification_report\n",
    "\n",
    "import matplotlib.pyplot as plt"
   ]
  },
  {
   "cell_type": "code",
   "execution_count": 2,
   "metadata": {},
   "outputs": [],
   "source": [
    "(train_image_source, train_label), (test_image_source, test_label) = fashion_mnist.load_data()"
   ]
  },
  {
   "cell_type": "code",
   "execution_count": 3,
   "metadata": {},
   "outputs": [],
   "source": [
    "# Normalize\n",
    "train_image = (train_image_source / 255) - 0.5\n",
    "test_image = (test_image_source / 255) - 0.5"
   ]
  },
  {
   "cell_type": "code",
   "execution_count": 4,
   "metadata": {},
   "outputs": [],
   "source": [
    "# Flatten\n",
    "train_image = train_image.reshape(-1, 784)\n",
    "test_image = test_image.reshape(-1, 784)"
   ]
  },
  {
   "cell_type": "markdown",
   "metadata": {},
   "source": [
    "##### Цикл оценки модели по различному количеству (32, 64, 128, 256) нейронов для 2-слойной сети"
   ]
  },
  {
   "cell_type": "code",
   "execution_count": 5,
   "metadata": {},
   "outputs": [
    {
     "name": "stdout",
     "output_type": "stream",
     "text": [
      "1875/1875 [==============================] - 5s 3ms/step - loss: 0.3187 - accuracy: 0.8835\n",
      "313/313 [==============================] - 1s 3ms/step - loss: 0.3866 - accuracy: 0.8601\n",
      "1875/1875 [==============================] - 6s 3ms/step - loss: 0.2882 - accuracy: 0.8942\n",
      "313/313 [==============================] - 1s 3ms/step - loss: 0.3643 - accuracy: 0.8710\n",
      "1875/1875 [==============================] - 5s 2ms/step - loss: 0.2906 - accuracy: 0.8898\n",
      "313/313 [==============================] - 1s 3ms/step - loss: 0.3793 - accuracy: 0.8673\n",
      "1875/1875 [==============================] - 7s 3ms/step - loss: 0.2780 - accuracy: 0.8937\n",
      "313/313 [==============================] - 1s 3ms/step - loss: 0.3731 - accuracy: 0.8646\n",
      "CPU times: total: 5min 25s\n",
      "Wall time: 2min 33s\n"
     ]
    }
   ],
   "source": [
    "%%time\n",
    "accuracy_dict_1 = {}\n",
    "neuron_num_list = [32, 64, 128, 256]\n",
    "\n",
    "for neuron_num in neuron_num_list:\n",
    "    model = Sequential([\n",
    "        Dense(neuron_num, activation='relu', input_shape=(784,)),\n",
    "        Dense(neuron_num, activation='relu'),\n",
    "        Dense(10, activation='softmax')\n",
    "                        ])\n",
    "\n",
    "    model.compile(optimizer='Adam',\n",
    "                   loss='categorical_crossentropy',\n",
    "                   metrics=['accuracy'])\n",
    "\n",
    "    model.fit(train_image,\n",
    "               to_categorical(train_label),\n",
    "               epochs=5,\n",
    "               batch_size=32,\n",
    "               verbose=False)\n",
    "\n",
    "    # Оценка модели\n",
    "    train_accuracy = model.evaluate(train_image, to_categorical(train_label))[1]\n",
    "    test_accuracy = model.evaluate(test_image, to_categorical(test_label))[1]\n",
    "    \n",
    "    accuracy_dict_1[f'{neuron_num} neurons'] = round(train_accuracy, 4), round(test_accuracy, 4)"
   ]
  },
  {
   "cell_type": "code",
   "execution_count": 6,
   "metadata": {},
   "outputs": [
    {
     "name": "stdout",
     "output_type": "stream",
     "text": [
      "               Train    Test\n"
     ]
    },
    {
     "data": {
      "text/plain": [
       "{'32 neurons': (0.8835, 0.8601),\n",
       " '64 neurons': (0.8942, 0.871),\n",
       " '128 neurons': (0.8898, 0.8673),\n",
       " '256 neurons': (0.8937, 0.8646)}"
      ]
     },
     "execution_count": 6,
     "metadata": {},
     "output_type": "execute_result"
    }
   ],
   "source": [
    "print('               Train    Test')\n",
    "accuracy_dict_1"
   ]
  },
  {
   "cell_type": "markdown",
   "metadata": {},
   "source": [
    "Лучший результат показала сеть со 256 нейронами. Следовательно количество слоёв будем подбирать с количеством нейронов примерно равным 256."
   ]
  },
  {
   "cell_type": "markdown",
   "metadata": {},
   "source": [
    "##### Цикл оценки модели по различному количеству слоев."
   ]
  },
  {
   "cell_type": "code",
   "execution_count": 7,
   "metadata": {},
   "outputs": [
    {
     "name": "stdout",
     "output_type": "stream",
     "text": [
      "1875/1875 [==============================] - 7s 4ms/step - loss: 0.2565 - accuracy: 0.9027\n",
      "313/313 [==============================] - 1s 3ms/step - loss: 0.3494 - accuracy: 0.8753\n",
      "1875/1875 [==============================] - 8s 4ms/step - loss: 0.2679 - accuracy: 0.8983\n",
      "313/313 [==============================] - 1s 4ms/step - loss: 0.3503 - accuracy: 0.8728\n",
      "1875/1875 [==============================] - 6s 3ms/step - loss: 0.3064 - accuracy: 0.8887\n",
      "313/313 [==============================] - 2s 4ms/step - loss: 0.3867 - accuracy: 0.8636\n",
      "1875/1875 [==============================] - 9s 5ms/step - loss: 0.3613 - accuracy: 0.8749\n",
      "313/313 [==============================] - 2s 5ms/step - loss: 0.4201 - accuracy: 0.8534\n",
      "CPU times: total: 12min 25s\n",
      "Wall time: 3min 46s\n"
     ]
    }
   ],
   "source": [
    "%%time\n",
    "accuracy_dict_2 = {}\n",
    "layer_num_list = [2, 3, 5, 10]\n",
    "nn_list = []\n",
    "\n",
    "for layer_num in layer_num_list:\n",
    "    # Создание входного слоя\n",
    "    model = Sequential(Dense(256, activation='relu', input_shape=(784,)))\n",
    "    \n",
    "    # Создание внутренних слоёв, кроме выходного\n",
    "    for l in range(layer_num - 1):\n",
    "        nn = np.random.randint(240, 280, 1) # рандомизация нейронов в слое\n",
    "        nn_list.append((l, nn))\n",
    "        model.add(Dense(nn, activation='relu'))\n",
    "    \n",
    "    # Создание выходного слоя\n",
    "    model.add(Dense(10, activation='softmax'))\n",
    "\n",
    "    model.compile(optimizer='Adam',\n",
    "                   loss='categorical_crossentropy',\n",
    "                   metrics=['accuracy'])\n",
    "\n",
    "    model.fit(train_image,\n",
    "               to_categorical(train_label),\n",
    "               epochs=5,\n",
    "               batch_size=32,\n",
    "               verbose=False)\n",
    "\n",
    "    # Оценка модели\n",
    "    train_accuracy = model.evaluate(train_image, to_categorical(train_label))[1]\n",
    "    test_accuracy = model.evaluate(test_image, to_categorical(test_label))[1]\n",
    "    \n",
    "    accuracy_dict_2[f'{layer_num} layers'] = round(train_accuracy, 4), round(test_accuracy, 4)"
   ]
  },
  {
   "cell_type": "code",
   "execution_count": 8,
   "metadata": {},
   "outputs": [
    {
     "name": "stdout",
     "output_type": "stream",
     "text": [
      "               Train   Test\n"
     ]
    },
    {
     "data": {
      "text/plain": [
       "{'2 layers': (0.9027, 0.8753),\n",
       " '3 layers': (0.8983, 0.8728),\n",
       " '5 layers': (0.8887, 0.8636),\n",
       " '10 layers': (0.8749, 0.8534)}"
      ]
     },
     "execution_count": 8,
     "metadata": {},
     "output_type": "execute_result"
    }
   ],
   "source": [
    "print('               Train   Test')\n",
    "accuracy_dict_2"
   ]
  },
  {
   "cell_type": "markdown",
   "metadata": {},
   "source": [
    "5-слойная сеть показала начилучшие результаты, однако разница по сравнению с другими сетями незначительная."
   ]
  },
  {
   "cell_type": "markdown",
   "metadata": {},
   "source": [
    "##### Цикл подбора оптимизатора."
   ]
  },
  {
   "cell_type": "code",
   "execution_count": 9,
   "metadata": {},
   "outputs": [],
   "source": [
    "optimizers = ['SGD', 'Adam', 'RMSProp']\n",
    "activation = 'relu'"
   ]
  },
  {
   "cell_type": "code",
   "execution_count": 10,
   "metadata": {},
   "outputs": [
    {
     "name": "stdout",
     "output_type": "stream",
     "text": [
      "1875/1875 [==============================] - 7s 4ms/step - loss: 0.3392 - accuracy: 0.8770\n",
      "313/313 [==============================] - 1s 4ms/step - loss: 0.3892 - accuracy: 0.8583\n",
      "1875/1875 [==============================] - 8s 4ms/step - loss: 0.2657 - accuracy: 0.8985\n",
      "313/313 [==============================] - 1s 4ms/step - loss: 0.3557 - accuracy: 0.8700\n",
      "1875/1875 [==============================] - 6s 3ms/step - loss: 0.4216 - accuracy: 0.8565\n",
      "313/313 [==============================] - 1s 4ms/step - loss: 0.5564 - accuracy: 0.8337\n"
     ]
    }
   ],
   "source": [
    "accuracy_dict_3 = {}\n",
    "for optimizer in optimizers:\n",
    "    model = Sequential([\n",
    "        Dense(256, activation, input_shape=(784,)),\n",
    "        Dense(256, activation),\n",
    "        Dense(256, activation),\n",
    "        Dense(10, 'softmax')\n",
    "    ])\n",
    "\n",
    "    model.compile(optimizer=optimizer,\n",
    "                 loss='categorical_crossentropy',\n",
    "                 metrics=['accuracy'])\n",
    "    \n",
    "    model.fit(train_image,\n",
    "              to_categorical(train_label),\n",
    "              epochs=5,\n",
    "              batch_size=32,\n",
    "              verbose=False)\n",
    "    \n",
    "    # Оценка модели\n",
    "    train_accuracy = model.evaluate(train_image, to_categorical(train_label))[1]\n",
    "    test_accuracy = model.evaluate(test_image, to_categorical(test_label))[1]\n",
    "    \n",
    "    accuracy_dict_3[f'{optimizer} optimizer'] = round(train_accuracy, 4), round(test_accuracy, 4)"
   ]
  },
  {
   "cell_type": "code",
   "execution_count": 11,
   "metadata": {},
   "outputs": [
    {
     "name": "stdout",
     "output_type": "stream",
     "text": [
      "                   Train   Test\n"
     ]
    },
    {
     "data": {
      "text/plain": [
       "{'SGD optimizer': (0.877, 0.8583),\n",
       " 'Adam optimizer': (0.8985, 0.87),\n",
       " 'RMSProp optimizer': (0.8565, 0.8337)}"
      ]
     },
     "execution_count": 11,
     "metadata": {},
     "output_type": "execute_result"
    }
   ],
   "source": [
    "print('                   Train   Test')\n",
    "accuracy_dict_3"
   ]
  },
  {
   "cell_type": "markdown",
   "metadata": {},
   "source": [
    "Adam показал наилучший результат"
   ]
  },
  {
   "cell_type": "markdown",
   "metadata": {},
   "source": [
    "Наибольшее влияние на улучшение модели оказало увеличение числа нейронов и выбор оптимизатора Adam.\n",
    "\n",
    "Изменение числа слоев нейронной сети не оказало существенного влияния на качество модели."
   ]
  },
  {
   "cell_type": "markdown",
   "metadata": {},
   "source": [
    "#### Финальное построение модели"
   ]
  },
  {
   "cell_type": "code",
   "execution_count": 12,
   "metadata": {},
   "outputs": [
    {
     "name": "stdout",
     "output_type": "stream",
     "text": [
      "1875/1875 [==============================] - 8s 4ms/step - loss: 0.2700 - accuracy: 0.8996\n",
      "313/313 [==============================] - 2s 4ms/step - loss: 0.3616 - accuracy: 0.8737\n",
      "CPU times: total: 2min 51s\n",
      "Wall time: 56.7 s\n"
     ]
    }
   ],
   "source": [
    "%%time\n",
    "model = Sequential([\n",
    "        Dense(240, activation, input_shape=(784,)),\n",
    "        Dense(256, activation),\n",
    "        Dense(280, activation),\n",
    "        Dense(256, activation),\n",
    "        Dense(240, activation),\n",
    "        Dense(10, 'softmax')\n",
    "    ])\n",
    "\n",
    "model.compile(optimizer='Adam',\n",
    "             loss='categorical_crossentropy',\n",
    "             metrics=['accuracy'])\n",
    "\n",
    "model.fit(train_image,\n",
    "          to_categorical(train_label),\n",
    "          epochs=5,\n",
    "          batch_size=32,\n",
    "          verbose=False)\n",
    "\n",
    "# Оценка модели\n",
    "train_accuracy = model.evaluate(train_image, to_categorical(train_label))[1]\n",
    "test_accuracy = model.evaluate(test_image, to_categorical(test_label))[1]"
   ]
  },
  {
   "cell_type": "code",
   "execution_count": 13,
   "metadata": {},
   "outputs": [
    {
     "data": {
      "text/plain": [
       "(0.8995833396911621, 0.8737000226974487)"
      ]
     },
     "execution_count": 13,
     "metadata": {},
     "output_type": "execute_result"
    }
   ],
   "source": [
    "train_accuracy, test_accuracy"
   ]
  },
  {
   "cell_type": "markdown",
   "metadata": {},
   "source": [
    "#### Оценка финальной модели"
   ]
  },
  {
   "cell_type": "code",
   "execution_count": 14,
   "metadata": {},
   "outputs": [],
   "source": [
    "test_pred_proba = model.predict(test_image, batch_size=32, verbose=False)\n",
    "test_pred_label = np.argmax(test_pred_proba, axis=1)"
   ]
  },
  {
   "cell_type": "code",
   "execution_count": 15,
   "metadata": {
    "scrolled": true
   },
   "outputs": [
    {
     "name": "stdout",
     "output_type": "stream",
     "text": [
      "              precision    recall  f1-score   support\n",
      "\n",
      "           0       0.81      0.84      0.83      1000\n",
      "           1       0.99      0.97      0.98      1000\n",
      "           2       0.79      0.79      0.79      1000\n",
      "           3       0.86      0.89      0.88      1000\n",
      "           4       0.79      0.81      0.80      1000\n",
      "           5       0.95      0.94      0.95      1000\n",
      "           6       0.73      0.63      0.67      1000\n",
      "           7       0.93      0.94      0.93      1000\n",
      "           8       0.94      0.97      0.96      1000\n",
      "           9       0.94      0.95      0.95      1000\n",
      "\n",
      "    accuracy                           0.87     10000\n",
      "   macro avg       0.87      0.87      0.87     10000\n",
      "weighted avg       0.87      0.87      0.87     10000\n",
      "\n"
     ]
    }
   ],
   "source": [
    "print(classification_report(test_label, test_pred_label))"
   ]
  },
  {
   "cell_type": "markdown",
   "metadata": {},
   "source": [
    "Хуже всего модель предсказывает класс 6, в меньшей степени плохо - класс 4, 2 и 0.\n",
    "\n",
    "Посмотрим каким изображениям соответствуют эти классы."
   ]
  },
  {
   "cell_type": "code",
   "execution_count": 16,
   "metadata": {},
   "outputs": [
    {
     "data": {
      "text/plain": [
       "array([   18,    32,    33, ..., 59973, 59987, 59988], dtype=int64)"
      ]
     },
     "execution_count": 16,
     "metadata": {},
     "output_type": "execute_result"
    }
   ],
   "source": [
    "np.where(train_label==6)[0]"
   ]
  },
  {
   "cell_type": "code",
   "execution_count": 17,
   "metadata": {},
   "outputs": [
    {
     "data": {
      "text/plain": [
       "array([   19,    22,    24, ..., 59984, 59986, 59990], dtype=int64)"
      ]
     },
     "execution_count": 17,
     "metadata": {},
     "output_type": "execute_result"
    }
   ],
   "source": [
    "np.where(train_label==4)[0]"
   ]
  },
  {
   "cell_type": "code",
   "execution_count": 18,
   "metadata": {},
   "outputs": [
    {
     "data": {
      "text/plain": [
       "array([    5,     7,    27, ..., 59977, 59981, 59993], dtype=int64)"
      ]
     },
     "execution_count": 18,
     "metadata": {},
     "output_type": "execute_result"
    }
   ],
   "source": [
    "np.where(train_label==2)[0]"
   ]
  },
  {
   "cell_type": "code",
   "execution_count": 19,
   "metadata": {},
   "outputs": [
    {
     "data": {
      "text/plain": [
       "array([    1,     2,     4, ..., 59974, 59985, 59998], dtype=int64)"
      ]
     },
     "execution_count": 19,
     "metadata": {},
     "output_type": "execute_result"
    }
   ],
   "source": [
    "np.where(train_label==0)[0]"
   ]
  },
  {
   "cell_type": "code",
   "execution_count": 20,
   "metadata": {},
   "outputs": [
    {
     "data": {
      "image/png": "[encoded data removed]",
      "text/plain": [
       "<Figure size 720x360 with 4 Axes>"
      ]
     },
     "metadata": {
      "needs_background": "light"
     },
     "output_type": "display_data"
    }
   ],
   "source": [
    "plt.figure(figsize=(10,5))\n",
    "\n",
    "plt.subplot(1, 4, 1)\n",
    "plt.imshow(train_image_source[18])\n",
    "\n",
    "plt.subplot(1, 4, 2)\n",
    "plt.imshow(train_image_source[19])\n",
    "\n",
    "plt.subplot(1, 4, 3)\n",
    "plt.imshow(train_image_source[5])\n",
    "\n",
    "plt.subplot(1, 4, 4)\n",
    "plt.imshow(train_image_source[1])\n",
    "\n",
    "plt.show()"
   ]
  },
  {
   "cell_type": "markdown",
   "metadata": {},
   "source": [
    "Видно, что классификатор плохо различает верхнюю одежду, особенно класс 6 (он расположен первым среди изображений выше)."
   ]
  }
 ],
 "metadata": {
  "colab": {
   "provenance": []
  },
  "kernelspec": {
   "display_name": "Python 3 (ipykernel)",
   "language": "python",
   "name": "python3"
  },
  "language_info": {
   "codemirror_mode": {
    "name": "ipython",
    "version": 3
   },
   "file_extension": ".py",
   "mimetype": "text/x-python",
   "name": "python",
   "nbconvert_exporter": "python",
   "pygments_lexer": "ipython3",
   "version": "3.10.5"
  }
 },
 "nbformat": 4,
 "nbformat_minor": 1
}
